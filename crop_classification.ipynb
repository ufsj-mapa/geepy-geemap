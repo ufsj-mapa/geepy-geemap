{
 "cells": [
  {
   "cell_type": "code",
   "execution_count": 1,
   "id": "7923d195-e804-4b75-a80f-e344103f2745",
   "metadata": {},
   "outputs": [],
   "source": [
    "import ee\n",
    "ee.Initialize()\n",
    "\n",
    "import geepy\n",
    "import math\n",
    "import sys\n",
    "import geemap\n",
    "\n",
    "import pandas as pd\n",
    "import numpy as np\n",
    "\n",
    "import matplotlib.pyplot as plt\n",
    "import seaborn as sns"
   ]
  },
  {
   "cell_type": "code",
   "execution_count": 2,
   "id": "ebae0f6e-b8fb-4aa7-b3ba-389df50764e6",
   "metadata": {},
   "outputs": [],
   "source": [
    "config = geepy.params.configParams('input_parameters.json')\n",
    "amostras = ee.FeatureCollection(config.params['samples']['amostras_parana'])\n",
    "region = ee.FeatureCollection(config.params['studyArea']) \n",
    "\n",
    "bands = config.params['bandParams']\n",
    "\n",
    "l8 = ee.ImageCollection(config.params['imgCollection']['lc8']['sr']).select(\n",
    "    config.params[\"imgCollection\"][\"lc8\"][\"bands\"],\n",
    "    config.params[\"imgCollection\"][\"lc8\"][\"bandNames\"])\n",
    "\n",
    "region = ee.FeatureCollection(config.params['studyArea']) \n",
    "\n",
    "tiles = ee.FeatureCollection(config.params['lsTiles'])"
   ]
  },
  {
   "cell_type": "code",
   "execution_count": 3,
   "id": "8972b5c8-8ded-44ed-9b13-4a3496106d9b",
   "metadata": {},
   "outputs": [],
   "source": [
    "tile = [geepy.feature.getTiles(tiles, tile, 'TILE') for tile in config.params['grid']['tiles2process']]"
   ]
  },
  {
   "cell_type": "code",
   "execution_count": 4,
   "id": "910f7b20-be00-413e-95f5-c5561be197c2",
   "metadata": {},
   "outputs": [],
   "source": [
    "samples = ee.FeatureCollection(config.params['samples']['amostras_parana'])"
   ]
  },
  {
   "cell_type": "code",
   "execution_count": 5,
   "id": "694453c6-5f39-4487-a0d1-a5cea17baac5",
   "metadata": {},
   "outputs": [],
   "source": [
    "samples_soybean = ee.FeatureCollection(config.params['samples']['amostras_parana']).filter(\"NM_CULTURA == 'Soja'\")\n",
    "samples_wheat = ee.FeatureCollection(config.params['samples']['amostras_parana']).filter(\"NM_CULTURA == 'Trigo'\")\n",
    "samples_maize = ee.FeatureCollection(config.params['samples']['amostras_parana']).filter(\"NM_CULTURA == 'Milho 2ª safra'\")\n",
    "samples_others = ee.FeatureCollection(config.params['samples']['amostras_parana']).filter(\"NM_CULTURA == 'outros'\")"
   ]
  },
  {
   "cell_type": "code",
   "execution_count": 6,
   "id": "445b9f43-3490-4242-8276-5e1633364e69",
   "metadata": {},
   "outputs": [],
   "source": [
    "srtm = ee.Image(config.params['srtm'])\n",
    "slope = ee.Terrain.slope(srtm)\n",
    "aspect = ee.Terrain.aspect(srtm).divide(180).multiply(math.pi).sin()\n",
    "hillshade = ee.Terrain.hillshade(srtm)"
   ]
  },
  {
   "cell_type": "code",
   "execution_count": 7,
   "id": "df7bb164-80de-4ea9-ab75-f43c076d65c6",
   "metadata": {},
   "outputs": [
    {
     "name": "stdout",
     "output_type": "stream",
     "text": [
      "Processing Landsat data: 2020"
     ]
    }
   ],
   "source": [
    "landsat = {}\n",
    "\n",
    "for year in config.params['years2process']:  \n",
    "    start_d = year + config.params['plantingDate']['soybean']['planting']['start']\n",
    "    end_d = year + config.params['plantingDate']['soybean']['planting']['end']\n",
    "\n",
    "    #print(\"Start-End dry season %s %s\" %(start_d, end_d))\n",
    "\n",
    "    filtered = l8.filterMetadata('CLOUD_COVER', 'less_than', config.params['cloudCoverThreshold']).filterDate(start_d, end_d).map(geepy.image.maskLandsatSR)\n",
    "    satellite = 'l8'\n",
    "        \n",
    "    fEdgeRemoved = filtered.map(geepy.image.edgeRemoval).median()\n",
    "    \n",
    "    fEdgeRemovedMin = filtered.map(geepy.image.edgeRemoval).min()\n",
    "    fEdgeRemovedMax = filtered.map(geepy.image.edgeRemoval).max()\n",
    "\n",
    "    fEdgeRemoved = geepy.image.img2Band(fEdgeRemoved, srtm, 'srtm')\n",
    "    fEdgeRemoved = geepy.image.img2Band(fEdgeRemoved, slope, 'slope')\n",
    "    fEdgeRemoved = geepy.image.img2Band(fEdgeRemoved, aspect, 'aspect')\n",
    "    fEdgeRemoved = geepy.image.img2Band(fEdgeRemoved, hillshade, 'hillshade')\n",
    "\n",
    "    fEdgeRemoved = geepy.image.calcPSRI(fEdgeRemoved)\n",
    "    fEdgeRemoved = geepy.image.calcNDVI(fEdgeRemoved)\n",
    "    fEdgeRemoved = geepy.image.calcNDBI(fEdgeRemoved)\n",
    "    fEdgeRemoved = geepy.image.calcEVI(fEdgeRemoved)\n",
    "    fEdgeRemoved = geepy.image.calcSAVI(fEdgeRemoved)\n",
    "    fEdgeRemoved = geepy.image.calcNDWI_L(fEdgeRemoved)\n",
    "    fEdgeRemoved = geepy.image.calcNDWI_WB(fEdgeRemoved)\n",
    "    fEdgeRemoved = geepy.image.calcRatio(fEdgeRemoved)\n",
    "\n",
    "    fEdgeRemoved = geepy.image.tassCapTransformation(fEdgeRemoved, satellite)\n",
    "        \n",
    "    landsat[year] = fEdgeRemoved.clip(region)\n",
    "        \n",
    "    sys.stdout.write(\"\\rProcessing Landsat data: %s\" % year)\n",
    "    sys.stdout.flush()"
   ]
  },
  {
   "cell_type": "code",
   "execution_count": 8,
   "id": "a6bf5d7a-43e9-472c-9d2b-121770915e31",
   "metadata": {},
   "outputs": [
    {
     "data": {
      "application/vnd.jupyter.widget-view+json": {
       "model_id": "056f76e0f5ba43119c64a3b2b286e8ce",
       "version_major": 2,
       "version_minor": 0
      },
      "text/plain": [
       "Map(center=[-24.7269, -51.6589], controls=(WidgetControl(options=['position', 'transparent_bg'], widget=HBox(c…"
      ]
     },
     "metadata": {},
     "output_type": "display_data"
    }
   ],
   "source": [
    "Map = geemap.Map(center=(-24.7269, -51.6589), zoom=7)\n",
    "Map.addLayer(landsat['2020'], {'min': 0.15,'max': 0.4,'bands': 'swir1,nir,red'}, 'RGB')\n",
    "Map.addLayer(region, {\n",
    "                  'color': '00000000',\n",
    "                  'width': 2,\n",
    "                  'fillColor': '00000000',\n",
    "                  'lineType': 'solid',\n",
    "                  'fillColorOpacity': 1\n",
    "}, 'Limire Paraná')\n",
    "Map.addLayer(samples_soybean, {\n",
    "                'color': '77a605', \n",
    "                'colorOpacity': 0,\n",
    "                'pointSize': 2,\n",
    "                'pointShape': 'circle',\n",
    "                'width': 1,\n",
    "                'lineType': 'solid', \n",
    "                'fillColorOpacity': 0.66\n",
    "}, 'Soja')\n",
    "Map.addLayer(samples_wheat, {\n",
    "                'color': 'b8af4f', \n",
    "                'colorOpacity': 0,\n",
    "                'pointSize': 2,\n",
    "                'pointShape': 'circle',\n",
    "                'width': 1,\n",
    "                'lineType': 'solid', \n",
    "                'fillColorOpacity': 0.66\n",
    "}, 'Trigo')\n",
    "Map.addLayer(samples_maize, {\n",
    "                'color': 'ffff8d', \n",
    "                'colorOpacity': 0,\n",
    "                'pointSize': 2,\n",
    "                'pointShape': 'circle',\n",
    "                'width': 1,\n",
    "                'lineType': 'solid', \n",
    "                'fillColorOpacity': 0.66\n",
    "}, 'Milho 2ª safra')\n",
    "Map.addLayer(samples_others, {\n",
    "                'color': '222222', \n",
    "                'colorOpacity': 0,\n",
    "                'pointSize': 2,\n",
    "                'pointShape': 'circle',\n",
    "                'width': 1,\n",
    "                'lineType': 'solid', \n",
    "                'fillColorOpacity': 0.66\n",
    "}, 'outros')\n",
    "\n",
    "legend = \"\"\"\n",
    "\n",
    "Value\tColor\tDescription\n",
    "1\t77a605\tSoja\n",
    "2\tb8af4f\tTrigo\n",
    "3\tffff8d\tMilho 2ª safra\n",
    "\n",
    "\"\"\"\n",
    "legend_dict = geemap.legend_from_ee(legend)\n",
    "Map.add_legend(legend_title=\"Classes\", legend_dict=legend_dict)\n",
    "Map"
   ]
  },
  {
   "cell_type": "code",
   "execution_count": 9,
   "id": "44405707-1b4a-4411-ad84-13591d10077d",
   "metadata": {},
   "outputs": [],
   "source": [
    "samples = samples.randomColumn('randCol', 0)"
   ]
  },
  {
   "cell_type": "code",
   "execution_count": 10,
   "id": "cf4d642e-158a-484e-ad70-b57f78c7fce4",
   "metadata": {},
   "outputs": [],
   "source": [
    "training = samples.filter(ee.Filter.gt('randCol', 0.2))\n",
    "validation = samples.filter(ee.Filter.lt('randCol', 0.2))"
   ]
  },
  {
   "cell_type": "code",
   "execution_count": 11,
   "id": "7d86a6ed-278b-4cea-b495-d4ca916428e3",
   "metadata": {},
   "outputs": [],
   "source": [
    "trained = geepy.image.trainingSamples(landsat['2020'], training)"
   ]
  },
  {
   "cell_type": "code",
   "execution_count": 12,
   "id": "fccfe73c-700a-4084-a35d-de8cad0dbe47",
   "metadata": {},
   "outputs": [],
   "source": [
    "# Randon Forest\n",
    "classification = {year: geepy.image.randomForest(landsat[year], trained, bands, ntrees=500) for (year) in config.params['years2process']}"
   ]
  },
  {
   "cell_type": "code",
   "execution_count": 13,
   "id": "8117632d-9f32-40fa-97b9-c3dc145c5eea",
   "metadata": {},
   "outputs": [],
   "source": [
    "tasks = {year: geepy.image.send2drive(classification[year][0], config.params['extent'], 'classification_'+ year, 'classification_parana_500t', 30) for year in config.params['years2process']}"
   ]
  },
  {
   "cell_type": "code",
   "execution_count": 14,
   "id": "56e5e798-b17c-4eee-9bbb-d1a80faad798",
   "metadata": {},
   "outputs": [],
   "source": [
    "for i in tasks.keys():\n",
    "    [tasks[i].start()]"
   ]
  },
  {
   "cell_type": "code",
   "execution_count": 15,
   "id": "af451a43-a4a9-49ab-a5d2-594fa7fe972b",
   "metadata": {},
   "outputs": [],
   "source": [
    "confusionMatrix = classification['2020'][1].getInfo()"
   ]
  },
  {
   "cell_type": "code",
   "execution_count": 16,
   "id": "93f188f9-e897-4cb8-b1a0-5a351245bac6",
   "metadata": {},
   "outputs": [],
   "source": [
    "confusionMatrix = np.delete(confusionMatrix, 0, 0)\n",
    "confusionMatrix = np.delete(confusionMatrix, 0, 1)"
   ]
  },
  {
   "cell_type": "code",
   "execution_count": 18,
   "id": "e4162515-d9e0-40c6-a0c3-43bf2ee8151b",
   "metadata": {},
   "outputs": [],
   "source": [
    "trainingConfusionMatrix = pd.DataFrame(np.asarray(confusionMatrix), index = ['Soja','Trigo','Milho 2ª safra', 'outros'], columns = ['Soja','Trigo','Milho 2ª safra', 'outros'])"
   ]
  },
  {
   "cell_type": "code",
   "execution_count": 19,
   "id": "276357e9-1938-494f-ba8a-ee95cd198e01",
   "metadata": {},
   "outputs": [
    {
     "data": {
      "image/png": "[encoded data removed]",
      "text/plain": [
       "<Figure size 720x720 with 2 Axes>"
      ]
     },
     "metadata": {
      "needs_background": "light"
     },
     "output_type": "display_data"
    }
   ],
   "source": [
    "fig, ax = plt.subplots(1, figsize = (10,10))\n",
    "sns.heatmap(trainingConfusionMatrix/trainingConfusionMatrix.sum(axis = 1), annot = True)\n",
    "ax.set_xlabel('Model Predictions', fontsize = 20)\n",
    "ax.set_ylabel('Actual', fontsize = 20)\n",
    "plt.title(\"Training data confusion matrix\", fontsize = 20);"
   ]
  },
  {
   "cell_type": "code",
   "execution_count": 21,
   "id": "2d0b2425-06eb-452c-b043-ad56070dc62d",
   "metadata": {},
   "outputs": [
    {
     "data": {
      "text/html": [
       "<div>\n",
       "<style scoped>\n",
       "    .dataframe tbody tr th:only-of-type {\n",
       "        vertical-align: middle;\n",
       "    }\n",
       "\n",
       "    .dataframe tbody tr th {\n",
       "        vertical-align: top;\n",
       "    }\n",
       "\n",
       "    .dataframe thead th {\n",
       "        text-align: right;\n",
       "    }\n",
       "</style>\n",
       "<table border=\"1\" class=\"dataframe\">\n",
       "  <thead>\n",
       "    <tr style=\"text-align: right;\">\n",
       "      <th></th>\n",
       "      <th>Soja</th>\n",
       "      <th>Trigo</th>\n",
       "      <th>Milho 2ª safra</th>\n",
       "      <th>outros</th>\n",
       "    </tr>\n",
       "  </thead>\n",
       "  <tbody>\n",
       "    <tr>\n",
       "      <th>Soja</th>\n",
       "      <td>2480</td>\n",
       "      <td>1</td>\n",
       "      <td>4</td>\n",
       "      <td>0</td>\n",
       "    </tr>\n",
       "    <tr>\n",
       "      <th>Trigo</th>\n",
       "      <td>42</td>\n",
       "      <td>527</td>\n",
       "      <td>0</td>\n",
       "      <td>0</td>\n",
       "    </tr>\n",
       "    <tr>\n",
       "      <th>Milho 2ª safra</th>\n",
       "      <td>193</td>\n",
       "      <td>4</td>\n",
       "      <td>1034</td>\n",
       "      <td>0</td>\n",
       "    </tr>\n",
       "    <tr>\n",
       "      <th>outros</th>\n",
       "      <td>0</td>\n",
       "      <td>0</td>\n",
       "      <td>0</td>\n",
       "      <td>156</td>\n",
       "    </tr>\n",
       "  </tbody>\n",
       "</table>\n",
       "</div>"
      ],
      "text/plain": [
       "                Soja  Trigo  Milho 2ª safra  outros\n",
       "Soja            2480      1               4       0\n",
       "Trigo             42    527               0       0\n",
       "Milho 2ª safra   193      4            1034       0\n",
       "outros             0      0               0     156"
      ]
     },
     "execution_count": 21,
     "metadata": {},
     "output_type": "execute_result"
    }
   ],
   "source": [
    "trainingConfusionMatrix"
   ]
  },
  {
   "cell_type": "code",
   "execution_count": null,
   "id": "fa7cad7c-475a-437b-b392-5de80ecc1140",
   "metadata": {},
   "outputs": [],
   "source": []
  }
 ],
 "metadata": {
  "kernelspec": {
   "display_name": "Python 3",
   "language": "python",
   "name": "python3"
  },
  "language_info": {
   "codemirror_mode": {
    "name": "ipython",
    "version": 3
   },
   "file_extension": ".py",
   "mimetype": "text/x-python",
   "name": "python",
   "nbconvert_exporter": "python",
   "pygments_lexer": "ipython3",
   "version": "3.8.10"
  }
 },
 "nbformat": 4,
 "nbformat_minor": 5
}
